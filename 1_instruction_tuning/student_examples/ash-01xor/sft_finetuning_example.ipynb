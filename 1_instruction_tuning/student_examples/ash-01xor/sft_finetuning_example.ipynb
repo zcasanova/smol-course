{
<<<<<<< HEAD
    "cells": [
        {
            "cell_type": "markdown",
            "metadata": {},
            "source": [
                "# Supervised Fine-Tuning with SFTTrainer\n",
                "\n",
                "This notebook demonstrates how to fine-tune the `HuggingFaceTB/SmolLM2-135M` model using the `SFTTrainer` from the `trl` library. The notebook cells run and will finetune the model. You can select your difficulty by trying out different datasets.\n",
                "\n",
                "<div style='background-color: lightblue; padding: 10px; border-radius: 5px; margin-bottom: 20px'>\n",
                "    <h2 style='margin: 0;color:blue'>Exercise: Fine-Tuning SmolLM2 with SFTTrainer</h2>\n",
                "    <p>Take a dataset from the Hugging Face hub and finetune a model on it. </p> \n",
                "    <p><b>Difficulty Levels</b></p>\n",
                "    <p>🐢 Use the `HuggingFaceTB/smoltalk` dataset</p>\n",
                "    <p>🐕 Try out the `bigcode/the-stack-smol` dataset and finetune a code generation model on a specific subset `data/python`.</p>\n",
                "    <p>🦁 Select a dataset that relates to a real world use case your interested in</p>\n",
                "</div>"
            ]
        },
        {
            "cell_type": "code",
            "execution_count": 7,
            "metadata": {},
            "outputs": [
                {
                    "name": "stderr",
                    "output_type": "stream",
                    "text": [
                        "/home/ash/miniconda3/envs/smollm/lib/python3.12/site-packages/tqdm/auto.py:21: TqdmWarning: IProgress not found. Please update jupyter and ipywidgets. See https://ipywidgets.readthedocs.io/en/stable/user_install.html\n",
                        "  from .autonotebook import tqdm as notebook_tqdm\n"
                    ]
                }
            ],
            "source": [
                "# Import necessary libraries\n",
                "from transformers import AutoModelForCausalLM, AutoTokenizer\n",
                "from datasets import load_dataset\n",
                "from trl import SFTConfig, SFTTrainer, setup_chat_format\n",
                "\n",
                "# Load the model and tokenizer\n",
                "model_name = \"HuggingFaceTB/SmolLM2-135M\"\n",
                "model = AutoModelForCausalLM.from_pretrained(pretrained_model_name_or_path=model_name)\n",
                "tokenizer = AutoTokenizer.from_pretrained(pretrained_model_name_or_path=model_name)\n",
                "\n",
                "# Set up the chat format\n",
                "model, tokenizer = setup_chat_format(model=model, tokenizer=tokenizer)\n"
            ]
        },
        {
            "cell_type": "markdown",
            "metadata": {},
            "source": [
                "## Dataset Preparation\n",
                "\n",
                "We will load a sample dataset and format it for training. The dataset should be structured with input-output pairs, where each input is a prompt and the output is the expected response from the model."
            ]
        },
        {
            "cell_type": "code",
            "execution_count": 8,
            "metadata": {},
            "outputs": [],
            "source": [
                "# Load a sample dataset\n",
                "from datasets import load_dataset\n",
                "\n",
                "# TODO: define your dataset and config using the path and name parameters\n",
                "ds_smoltalk = load_dataset(path=\"HuggingFaceTB/smoltalk\", name=\"everyday-conversations\")\n",
                "ds_bigcode = load_dataset(\"bigcode/the-stack-smol\", data_dir=\"data/python\")"
            ]
        },
        {
            "cell_type": "code",
            "execution_count": 9,
            "metadata": {},
            "outputs": [
                {
                    "data": {
                        "text/plain": [
                            "DatasetDict({\n",
                            "    train: Dataset({\n",
                            "        features: ['content', 'avg_line_length', 'max_line_length', 'alphanum_fraction', 'licenses', 'repository_name', 'path', 'size', 'lang'],\n",
                            "        num_rows: 10000\n",
                            "    })\n",
                            "})"
                        ]
                    },
                    "execution_count": 9,
                    "metadata": {},
                    "output_type": "execute_result"
                }
            ],
            "source": [
                "ds_bigcode"
            ]
        },
        {
            "cell_type": "code",
            "execution_count": 10,
            "metadata": {},
            "outputs": [
                {
                    "data": {
                        "text/plain": [
                            "{'content': '#!/usr/bin/env python3\\nimport json\\nimport os, sys, os.path\\nimport string\\nfrom configparser import ConfigParser\\n\\nJ2_CONF_PATH=\\'autobuild/configs/\\'\\n\\ndef write_file(filename, data):\\n    with open(filename, \"w\") as fname:\\n        json.dump(data, fname, indent = 4)\\n    return\\n\\ndef get_wallet_conf(path):\\n    wallet_conf_parser = ConfigParser()\\n    with open(path) as wallet_stream:\\n        wallet_conf_parser.read_string(\"[top]\\\\n\" + wallet_stream.read())\\n         \\n    return dict(wallet_conf_parser.items(\\'top\\'))\\n\\ndef get_xbridge_conf(path, ticker):\\n    xbridge_conf_parser = ConfigParser()\\n    xbridge_conf_parser.read(path)\\n\\n    return dict(xbridge_conf_parser.items(ticker))\\n\\nwith open(\\'manifest.json\\') as json_file:\\n    data = json.load(json_file)\\n\\n    tickers = list(set([chain[\\'ticker\\'] for chain in data]))\\n    tickers.sort(key = lambda t:t, reverse = False)\\n\\n    for ticker in tickers:\\n        chains = [chain for chain in data if chain[\\'ticker\\'] == ticker]\\n        \\n        chains.sort(key = lambda c:c[\\'ver_id\\'], reverse = False)\\n\\n        template_data = {}\\n        \\n        # get latest version\\n        latest_version_chain = chains[-1]\\n        xbridge_conf_data = get_xbridge_conf(\\'xbridge-confs/\\' + latest_version_chain[\\'xbridge_conf\\'], latest_version_chain[\\'ticker\\'])\\n        wallet_conf_data = get_wallet_conf(\\'wallet-confs/\\' + latest_version_chain[\\'wallet_conf\\'])\\n        template_data[\\'Title\\'] = xbridge_conf_data[\\'title\\']\\n        template_data[\\'Address\\'] = xbridge_conf_data[\\'address\\']\\n        template_data[\\'Ip\\'] = xbridge_conf_data[\\'ip\\']\\n        template_data[\\'rpcPort\\'] = \\'{{ rpcPort|default(\\' + wallet_conf_data[\\'rpcport\\'] + \\')}}\\'\\n        template_data[\\'p2pPort\\'] = \\'{{ p2pPort|default(\\' + wallet_conf_data[\\'port\\'] + \\')}}\\'\\n        template_data[\\'Username\\'] = \\'{{ rpcusername }}\\'\\n        template_data[\\'Password\\'] = \\'{{ rpcpassword }}\\'\\n        if \\'addressprefix\\' in xbridge_conf_data:\\n            template_data[\\'AddressPrefix\\'] = xbridge_conf_data[\\'addressprefix\\']\\n        if \\'scriptprefix\\' in xbridge_conf_data:\\n            template_data[\\'ScriptPrefix\\'] = xbridge_conf_data[\\'scriptprefix\\']\\n        if \\'secretprefix\\' in xbridge_conf_data:\\n            template_data[\\'SecretPrefix\\'] = xbridge_conf_data[\\'secretprefix\\']\\n        if \\'coin\\' in xbridge_conf_data:\\n            template_data[\\'COIN\\'] = xbridge_conf_data[\\'coin\\']\\n        if \\'minimumamount\\' in xbridge_conf_data:\\n            template_data[\\'MinimumAmount\\'] = xbridge_conf_data[\\'minimumamount\\']\\n        if \\'dustamount\\' in xbridge_conf_data:\\n            template_data[\\'DustAmount\\'] = xbridge_conf_data[\\'dustamount\\']\\n        if \\'createtxmethod\\' in xbridge_conf_data:\\n            template_data[\\'CreateTxMethod\\'] = xbridge_conf_data[\\'createtxmethod\\']\\n        if \\'getnewkeysupported\\' in xbridge_conf_data:\\n            template_data[\\'GetNewKeySupported\\'] = xbridge_conf_data[\\'getnewkeysupported\\']\\n        if \\'importwithnoscansupported\\' in xbridge_conf_data:\\n            template_data[\\'ImportWithNoScanSupported\\'] = xbridge_conf_data[\\'importwithnoscansupported\\']\\n        if \\'mintxfee\\' in xbridge_conf_data:\\n            template_data[\\'MinTxFee\\'] = xbridge_conf_data[\\'mintxfee\\']\\n        if \\'blocktime\\' in xbridge_conf_data:\\n            template_data[\\'BlockTime\\'] = xbridge_conf_data[\\'blocktime\\']\\n        if \\'txversion\\' in xbridge_conf_data:\\n            template_data[\\'TxVersion\\'] = xbridge_conf_data[\\'txversion\\']\\n        if \\'feeperbyte\\' in xbridge_conf_data:\\n            template_data[\\'FeePerByte\\'] = xbridge_conf_data[\\'feeperbyte\\']\\n        if \\'confirmations\\' in xbridge_conf_data:\\n            template_data[\\'Confirmations\\'] = xbridge_conf_data[\\'confirmations\\']\\n        \\n        coin_base_j2_data_versions = {}\\n        for chain in chains:\\n            wallet_conf_data = get_wallet_conf(\\'wallet-confs/\\' + chain[\\'wallet_conf\\'])\\n            xbridge_conf_data = get_xbridge_conf(\\'xbridge-confs/\\' + chain[\\'xbridge_conf\\'], chain[\\'ticker\\'])\\n            \\n            # get first of versions list of chain \\n            version = chain[\\'versions\\'][0]\\n            coin_base_j2_data_versions[version] = {\\n                \\'legacy\\': \\'addresstype\\' in wallet_conf_data,\\n                \\'deprecatedrpc\\': \\'deprecatedrpc\\' in wallet_conf_data,\\n                \\'xbridge_conf\\': chain[\\'xbridge_conf\\'],\\n                \\'wallet_conf\\': chain[\\'wallet_conf\\'],\\n                \\'GetNewKeySupported\\': \\'GetNewKeySupported\\' in xbridge_conf_data\\n            }\\n\\n        template_data[\\'versions\\'] = coin_base_j2_data_versions\\n\\n        template = {}\\n        template[ticker] = template_data\\n        \\n        write_file(J2_CONF_PATH + chain[\\'ticker\\'].lower() + \\'.base.j2\\', template)\\n\\n    print(\\',\\'.join(tickers))',\n",
                            " 'avg_line_length': 45.4607843137,\n",
                            " 'max_line_length': 133,\n",
                            " 'alphanum_fraction': 0.6596937675,\n",
                            " 'licenses': ['MIT'],\n",
                            " 'repository_name': 'mastrip2/blockchain-configuration-files',\n",
                            " 'path': 'autobuild/create-j2-confs.py',\n",
                            " 'size': 4637,\n",
                            " 'lang': 'Python'}"
                        ]
                    },
                    "execution_count": 10,
                    "metadata": {},
                    "output_type": "execute_result"
                }
            ],
            "source": [
                "ds_bigcode[\"train\"][52]"
            ]
        },
        {
            "cell_type": "code",
            "execution_count": 11,
            "metadata": {},
            "outputs": [],
            "source": [
                "# TODO: 🦁 If your dataset is not in a 'chatml' format, you will need to process it. Refer to the [module](../chat_templates.md)\n",
                "def process_dataset(sample):\n",
                "    code = sample[\"content\"]\n",
                "    messages = [\n",
                "        {\"role\": \"system\", \"content\": \"You are a helpful programming assistant that generates or explains Python code.\"},\n",
                "        {\"role\": \"user\", \"content\": f\"Generate or explain a Python code snippet similar to this one:\\n{code[:1000]}\"},\n",
                "        { \"role\": \"assistant\", \"content\": code}\n",
                "    ]\n",
                "    return {'messages': messages}"
            ]
        },
        {
            "cell_type": "code",
            "execution_count": 12,
            "metadata": {},
            "outputs": [],
            "source": [
                "ds_bigcode_chatml = ds_bigcode[\"train\"].map(\n",
                "    process_dataset,\n",
                "    remove_columns= ds_bigcode[\"train\"].column_names\n",
                ")"
            ]
        },
        {
            "cell_type": "code",
            "execution_count": 13,
            "metadata": {},
            "outputs": [
                {
                    "name": "stdout",
                    "output_type": "stream",
                    "text": [
                        "{'messages': [{'content': 'You are a helpful programming assistant that generates or explains Python code.', 'role': 'system'}, {'content': 'Generate or explain a Python code snippet similar to this one:\\nimport argparse\\nimport logging\\nfrom pprint import pformat\\n\\nfrom . import guide\\nfrom . import settings\\n\\n\\nlog = logging.getLogger(__name__)\\n\\n\\ndef cli(settingsobject=None):\\n    parser = argparse.ArgumentParser(description=\\'Create a CSS/LESS/SASS style guide.\\')\\n    if not settingsobject:\\n        parser.add_argument(\\'-f\\', \\'--settingsfile\\',\\n            dest=\\'settingsfile\\', default=\\'vitalstyles.json\\',\\n            help=\\'Path to settings file. Defaults to \"vitalstyles.json\".\\')\\n    parser.add_argument(\\'-l\\', \\'--loglevel\\',\\n        dest=\\'loglevel\\', default=\\'INFO\\',\\n        choices=[\\'DEBUG\\', \\'INFO\\', \\'ERROR\\'], help=\\'Loglevel.\\')\\n    args = parser.parse_args()\\n\\n    loglevel = getattr(logging, args.loglevel)\\n    logging.basicConfig(\\n        format=\\'[%(name)s] %(levelname)s: %(message)s\\',\\n        level=loglevel\\n    )\\n\\n    if loglevel > logging.DEBUG:\\n        markdownlogger = logging.getLogger(\\'MARKDOWN\\')\\n        markdownlogger.setLevel(logging.WARNING)\\n\\n    if not settingsobject:\\n        settingsobject = ', 'role': 'user'}, {'content': 'import argparse\\nimport logging\\nfrom pprint import pformat\\n\\nfrom . import guide\\nfrom . import settings\\n\\n\\nlog = logging.getLogger(__name__)\\n\\n\\ndef cli(settingsobject=None):\\n    parser = argparse.ArgumentParser(description=\\'Create a CSS/LESS/SASS style guide.\\')\\n    if not settingsobject:\\n        parser.add_argument(\\'-f\\', \\'--settingsfile\\',\\n            dest=\\'settingsfile\\', default=\\'vitalstyles.json\\',\\n            help=\\'Path to settings file. Defaults to \"vitalstyles.json\".\\')\\n    parser.add_argument(\\'-l\\', \\'--loglevel\\',\\n        dest=\\'loglevel\\', default=\\'INFO\\',\\n        choices=[\\'DEBUG\\', \\'INFO\\', \\'ERROR\\'], help=\\'Loglevel.\\')\\n    args = parser.parse_args()\\n\\n    loglevel = getattr(logging, args.loglevel)\\n    logging.basicConfig(\\n        format=\\'[%(name)s] %(levelname)s: %(message)s\\',\\n        level=loglevel\\n    )\\n\\n    if loglevel > logging.DEBUG:\\n        markdownlogger = logging.getLogger(\\'MARKDOWN\\')\\n        markdownlogger.setLevel(logging.WARNING)\\n\\n    if not settingsobject:\\n        settingsobject = settings.Settings(args.settingsfile)\\n    logging.debug(\\'Creating vitalstyles styleguide with the following settings:\\\\n%s\\',\\n                  pformat(settingsobject.settings))\\n    guide.Guide(settingsobject).render()\\n\\n\\nif __name__ == \\'__main__\\':\\n    cli()\\n', 'role': 'assistant'}]}\n"
                    ]
                }
            ],
            "source": [
                "print(ds_bigcode_chatml[10])"
            ]
        },
        {
            "cell_type": "markdown",
            "metadata": {},
            "source": [
                "## Configuring the SFTTrainer\n",
                "\n",
                "The `SFTTrainer` is configured with various parameters that control the training process. These include the number of training steps, batch size, learning rate, and evaluation strategy. Adjust these parameters based on your specific requirements and computational resources."
            ]
        },
        {
            "cell_type": "code",
            "execution_count": 14,
            "metadata": {},
            "outputs": [
                {
                    "name": "stderr",
                    "output_type": "stream",
                    "text": [
                        "/home/ash/miniconda3/envs/smollm/lib/python3.12/site-packages/huggingface_hub/utils/_deprecation.py:100: FutureWarning: Deprecated argument(s) used in '__init__': dataset_text_field. Will not be supported from version '0.13.0'.\n",
                        "\n",
                        "Deprecated positional argument(s) used in SFTTrainer, please use the SFTConfig to set these arguments instead.\n",
                        "  warnings.warn(message, FutureWarning)\n",
                        "/home/ash/miniconda3/envs/smollm/lib/python3.12/site-packages/trl/trainer/sft_trainer.py:309: UserWarning: You didn't pass a `max_seq_length` argument to the SFTTrainer, this will default to 1024\n",
                        "  warnings.warn(\n",
                        "/home/ash/miniconda3/envs/smollm/lib/python3.12/site-packages/trl/trainer/sft_trainer.py:328: UserWarning: You passed a `dataset_text_field` argument to the SFTTrainer, the value you passed will override the one in the `SFTConfig`.\n",
                        "  warnings.warn(\n",
                        "max_steps is given, it will override any value given in num_train_epochs\n"
                    ]
                }
            ],
            "source": [
                "# Configure the SFTTrainer\n",
                "sft_config = SFTConfig(\n",
                "    output_dir=\"./sft_output\",\n",
                "    max_steps=50,  # Adjust based on dataset size and desired training duration\n",
                "    per_device_train_batch_size=1,  # Set according to your GPU memory capacity\n",
                "    learning_rate=5e-5,  # Common starting point for fine-tuning\n",
                "    logging_steps=10,  # Frequency of logging training metrics\n",
                "    save_steps=25,  # Frequency of saving model checkpoints\n",
                "    # evaluation_strategy=\"steps\",  # Evaluate the model at regular intervals\n",
                "    # eval_steps=50,  # Frequency of evaluation\n",
                "    use_mps_device=False,\n",
                ")\n",
                "\n",
                "# Initialize the SFTTrainer\n",
                "# trainer = SFTTrainer(\n",
                "#     model=model,\n",
                "#     args=sft_config,\n",
                "#     train_dataset=ds[\"train\"],\n",
                "#     tokenizer=tokenizer,\n",
                "#     eval_dataset=ds[\"test\"],\n",
                "# )\n",
                "\n",
                "# TODO: 🦁 🐕 align the SFTTrainer params with your chosen dataset. For example, if you are using the `bigcode/the-stack-smol` dataset, you will need to choose the `content` column`\n",
                "trainer = SFTTrainer(\n",
                "    model=model,\n",
                "    args=sft_config,\n",
                "    train_dataset=ds_bigcode_chatml,\n",
                "    tokenizer=tokenizer,\n",
                "    dataset_text_field=\"messages\"\n",
                ")"
            ]
        },
        {
            "cell_type": "markdown",
            "metadata": {},
            "source": [
                "## Training the Model\n",
                "\n",
                "With the trainer configured, we can now proceed to train the model. The training process will involve iterating over the dataset, computing the loss, and updating the model's parameters to minimize this loss."
            ]
        },
        {
            "cell_type": "code",
            "execution_count": 15,
            "metadata": {},
            "outputs": [
                {
                    "name": "stderr",
                    "output_type": "stream",
                    "text": [
                        "  0%|          | 0/50 [00:00<?, ?it/s]"
                    ]
                },
                {
                    "name": "stderr",
                    "output_type": "stream",
                    "text": [
                        " 22%|██▏       | 11/50 [00:03<00:08,  4.53it/s]"
                    ]
                },
                {
                    "name": "stdout",
                    "output_type": "stream",
                    "text": [
                        "{'loss': 1.2566, 'grad_norm': 2.715775489807129, 'learning_rate': 4e-05, 'epoch': 0.0}\n"
                    ]
                },
                {
                    "name": "stderr",
                    "output_type": "stream",
                    "text": [
                        " 40%|████      | 20/50 [00:06<00:09,  3.09it/s]"
                    ]
                },
                {
                    "name": "stdout",
                    "output_type": "stream",
                    "text": [
                        "{'loss': 1.2313, 'grad_norm': 1.942342758178711, 'learning_rate': 3e-05, 'epoch': 0.0}\n"
                    ]
                },
                {
                    "name": "stderr",
                    "output_type": "stream",
                    "text": [
                        " 62%|██████▏   | 31/50 [00:11<00:06,  2.78it/s]"
                    ]
                },
                {
                    "name": "stdout",
                    "output_type": "stream",
                    "text": [
                        "{'loss': 0.9161, 'grad_norm': 3.365652561187744, 'learning_rate': 2e-05, 'epoch': 0.0}\n"
                    ]
                },
                {
                    "name": "stderr",
                    "output_type": "stream",
                    "text": [
                        " 80%|████████  | 40/50 [00:14<00:02,  4.73it/s]"
                    ]
                },
                {
                    "name": "stdout",
                    "output_type": "stream",
                    "text": [
                        "{'loss': 0.9628, 'grad_norm': 3.8847849369049072, 'learning_rate': 1e-05, 'epoch': 0.0}\n"
                    ]
                },
                {
                    "name": "stderr",
                    "output_type": "stream",
                    "text": [
                        "100%|██████████| 50/50 [00:17<00:00,  3.03it/s]"
                    ]
                },
                {
                    "name": "stdout",
                    "output_type": "stream",
                    "text": [
                        "{'loss': 0.9521, 'grad_norm': 1.8321682214736938, 'learning_rate': 0.0, 'epoch': 0.01}\n"
                    ]
                },
                {
                    "name": "stderr",
                    "output_type": "stream",
                    "text": [
                        "100%|██████████| 50/50 [00:20<00:00,  2.45it/s]\n"
                    ]
                },
                {
                    "name": "stdout",
                    "output_type": "stream",
                    "text": [
                        "{'train_runtime': 20.4001, 'train_samples_per_second': 2.451, 'train_steps_per_second': 2.451, 'train_loss': 1.0637830924987792, 'epoch': 0.01}\n"
                    ]
                }
            ],
            "source": [
                "# Train the model\n",
                "trainer.train()\n",
                "\n",
                "# Save the model\n",
                "trainer.save_model(\"./sft_output\")"
            ]
        },
        {
            "cell_type": "markdown",
            "metadata": {},
            "source": [
                "### Upload model to Hub:"
            ]
        },
        {
            "cell_type": "code",
            "execution_count": null,
            "metadata": {},
            "outputs": [],
            "source": [
                "#login to huggingface to push the model to hub directly\n",
                "#!huggingface-cli login"
            ]
        },
        {
            "cell_type": "code",
            "execution_count": null,
            "metadata": {},
            "outputs": [],
            "source": [
                "trainer.push_to_hub(\"smol-course\") #modify based on convenience"
            ]
        },
        {
            "cell_type": "markdown",
            "metadata": {},
            "source": [
                "## 💐 You're done!\n",
                "\n",
                "This notebook provided a step-by-step guide to fine-tuning the `HuggingFaceTB/SmolLM2-135M` model using the `SFTTrainer`. By following these steps, you can adapt the model to perform specific tasks more effectively. If you want to carry on working on this course, here are steps you could try out:\n",
                "\n",
                "- Try this notebook on a harder difficulty\n",
                "- Review a colleagues PR\n",
                "- Improve the course material via an Issue or PR."
            ]
        }
    ],
    "metadata": {
        "kernelspec": {
            "display_name": ".venv",
            "language": "python",
            "name": "python3"
        },
        "language_info": {
            "codemirror_mode": {
                "name": "ipython",
                "version": 3
            },
            "file_extension": ".py",
            "mimetype": "text/x-python",
            "name": "python",
            "nbconvert_exporter": "python",
            "pygments_lexer": "ipython3",
            "version": "3.12.7"
        }
    },
    "nbformat": 4,
    "nbformat_minor": 2
=======
 "cells": [
  {
   "cell_type": "markdown",
   "metadata": {},
   "source": [
    "# Supervised Fine-Tuning with SFTTrainer\n",
    "\n",
    "This notebook demonstrates how to fine-tune the `HuggingFaceTB/SmolLM2-135M` model using the `SFTTrainer` from the `trl` library. The notebook cells run and will finetune the model. You can select your difficulty by trying out different datasets.\n",
    "\n",
    "<div style='background-color: lightblue; padding: 10px; border-radius: 5px; margin-bottom: 20px; color:black'>\n",
    "    <h2 style='margin: 0;color:blue'>Exercise: Fine-Tuning SmolLM2 with SFTTrainer</h2>\n",
    "    <p>Take a dataset from the Hugging Face hub and finetune a model on it. </p> \n",
    "    <p><b>Difficulty Levels</b></p>\n",
    "    <p>🐢 Use the `HuggingFaceTB/smoltalk` dataset</p>\n",
    "    <p>🐕 Try out the `bigcode/the-stack-smol` dataset and finetune a code generation model on a specific subset `data/python`.</p>\n",
    "    <p>🦁 Select a dataset that relates to a real world use case your interested in</p>\n",
    "</div>"
   ]
  },
  {
   "cell_type": "code",
   "execution_count": null,
   "metadata": {},
   "outputs": [],
   "source": [
    "# Install the requirements in Google Colab\n",
    "# !pip install transformers datasets trl huggingface_hub\n",
    "\n",
    "# Authenticate to Hugging Face\n",
    "\n",
    "from huggingface_hub import login\n",
    "login()\n",
    "\n",
    "# for convenience you can create an environment variable containing your hub token as HF_TOKEN"
   ]
  },
  {
   "cell_type": "code",
   "execution_count": null,
   "metadata": {},
   "outputs": [],
   "source": [
    "# Import necessary libraries\n",
    "from transformers import AutoModelForCausalLM, AutoTokenizer\n",
    "from datasets import load_dataset\n",
    "from trl import SFTConfig, SFTTrainer, setup_chat_format\n",
    "import torch\n",
    "\n",
    "device = (\n",
    "    \"cuda\"\n",
    "    if torch.cuda.is_available()\n",
    "    else \"mps\" if torch.backends.mps.is_available() else \"cpu\"\n",
    ")\n",
    "\n",
    "# Load the model and tokenizer\n",
    "model_name = \"HuggingFaceTB/SmolLM2-135M\"\n",
    "model = AutoModelForCausalLM.from_pretrained(\n",
    "    pretrained_model_name_or_path=model_name\n",
    ").to(device)\n",
    "tokenizer = AutoTokenizer.from_pretrained(pretrained_model_name_or_path=model_name)\n",
    "\n",
    "# Set up the chat format\n",
    "model, tokenizer = setup_chat_format(model=model, tokenizer=tokenizer)\n",
    "\n",
    "# Set our name for the finetune to be saved &/ uploaded to\n",
    "finetune_name = \"SmolLM2-FT-MyDataset\"\n",
    "finetune_tags = [\"smol-course\", \"module_1\"]"
   ]
  },
  {
   "cell_type": "markdown",
   "metadata": {},
   "source": [
    "# Generate with the base model\n",
    "\n",
    "Here we will try out the base model which does not have a chat template. "
   ]
  },
  {
   "cell_type": "code",
   "execution_count": null,
   "metadata": {},
   "outputs": [],
   "source": [
    "# Let's test the base model before training\n",
    "prompt = \"Write a haiku about programming\"\n",
    "\n",
    "# Format with template\n",
    "messages = [{\"role\": \"user\", \"content\": prompt}]\n",
    "formatted_prompt = tokenizer.apply_chat_template(messages, tokenize=False)\n",
    "\n",
    "# Generate response\n",
    "inputs = tokenizer(formatted_prompt, return_tensors=\"pt\").to(device)\n",
    "outputs = model.generate(**inputs, max_new_tokens=100)\n",
    "print(\"Before training:\")\n",
    "print(tokenizer.decode(outputs[0], skip_special_tokens=True))"
   ]
  },
  {
   "cell_type": "markdown",
   "metadata": {},
   "source": [
    "## Dataset Preparation\n",
    "\n",
    "We will load a sample dataset and format it for training. The dataset should be structured with input-output pairs, where each input is a prompt and the output is the expected response from the model.\n",
    "\n",
    "**TRL will format input messages based on the model's chat templates.** They need to be represented as a list of dictionaries with the keys: `role` and `content`,."
   ]
  },
  {
   "cell_type": "code",
   "execution_count": null,
   "metadata": {},
   "outputs": [],
   "source": [
    "# Load a sample dataset\n",
    "from datasets import load_dataset\n",
    "\n",
    "# TODO: define your dataset and config using the path and name parameters\n",
    "ds = load_dataset(path=\"HuggingFaceTB/smoltalk\", name=\"everyday-conversations\")"
   ]
  },
  {
   "cell_type": "code",
   "execution_count": null,
   "metadata": {},
   "outputs": [],
   "source": [
    "# TODO: 🦁 If your dataset is not in a format that TRL can convert to the chat template, you will need to process it. Refer to the [module](../chat_templates.md)"
   ]
  },
  {
   "cell_type": "markdown",
   "metadata": {},
   "source": [
    "## Configuring the SFTTrainer\n",
    "\n",
    "The `SFTTrainer` is configured with various parameters that control the training process. These include the number of training steps, batch size, learning rate, and evaluation strategy. Adjust these parameters based on your specific requirements and computational resources."
   ]
  },
  {
   "cell_type": "code",
   "execution_count": null,
   "metadata": {},
   "outputs": [],
   "source": [
    "# Configure the SFTTrainer\n",
    "sft_config = SFTConfig(\n",
    "    output_dir=\"./sft_output\",\n",
    "    max_steps=1000,  # Adjust based on dataset size and desired training duration\n",
    "    per_device_train_batch_size=4,  # Set according to your GPU memory capacity\n",
    "    learning_rate=5e-5,  # Common starting point for fine-tuning\n",
    "    logging_steps=10,  # Frequency of logging training metrics\n",
    "    save_steps=100,  # Frequency of saving model checkpoints\n",
    "    evaluation_strategy=\"steps\",  # Evaluate the model at regular intervals\n",
    "    eval_steps=50,  # Frequency of evaluation\n",
    "    use_mps_device=(\n",
    "        True if device == \"mps\" else False\n",
    "    ),  # Use MPS for mixed precision training\n",
    "    hub_model_id=finetune_name,  # Set a unique name for your model\n",
    ")\n",
    "\n",
    "# Initialize the SFTTrainer\n",
    "trainer = SFTTrainer(\n",
    "    model=model,\n",
    "    args=sft_config,\n",
    "    train_dataset=ds[\"train\"],\n",
    "    tokenizer=tokenizer,\n",
    "    eval_dataset=ds[\"test\"],\n",
    ")\n",
    "\n",
    "# TODO: 🦁 🐕 align the SFTTrainer params with your chosen dataset. For example, if you are using the `bigcode/the-stack-smol` dataset, you will need to choose the `content` column`"
   ]
  },
  {
   "cell_type": "markdown",
   "metadata": {},
   "source": [
    "## Training the Model\n",
    "\n",
    "With the trainer configured, we can now proceed to train the model. The training process will involve iterating over the dataset, computing the loss, and updating the model's parameters to minimize this loss."
   ]
  },
  {
   "cell_type": "code",
   "execution_count": null,
   "metadata": {},
   "outputs": [],
   "source": [
    "# Train the model\n",
    "trainer.train()\n",
    "\n",
    "# Save the model\n",
    "trainer.save_model(f\"./{finetune_name}\")"
   ]
  },
  {
   "cell_type": "code",
   "execution_count": null,
   "metadata": {},
   "outputs": [],
   "source": [
    "trainer.push_to_hub(tags=finetune_tags)"
   ]
  },
  {
   "cell_type": "markdown",
   "metadata": {},
   "source": [
    "<div style='background-color: lightblue; padding: 10px; border-radius: 5px; margin-bottom: 20px; color:black'>\n",
    "    <h2 style='margin: 0;color:blue'>Bonus Exercise: Generate with fine-tuned model</h2>\n",
    "    <p>🐕 Use the fine-tuned to model generate a response, just like with the base example..</p>\n",
    "</div>"
   ]
  },
  {
   "cell_type": "code",
   "execution_count": null,
   "metadata": {},
   "outputs": [],
   "source": [
    "# Test the fine-tuned model on the same prompt\n",
    "\n",
    "# Let's test the base model before training\n",
    "prompt = \"Write a haiku about programming\"\n",
    "\n",
    "# Format with template\n",
    "messages = [{\"role\": \"user\", \"content\": prompt}]\n",
    "formatted_prompt = tokenizer.apply_chat_template(messages, tokenize=False)\n",
    "\n",
    "# Generate response\n",
    "inputs = tokenizer(formatted_prompt, return_tensors=\"pt\").to(device)\n",
    "\n",
    "# TODO: use the fine-tuned to model generate a response, just like with the base example."
   ]
  },
  {
   "cell_type": "markdown",
   "metadata": {},
   "source": [
    "## 💐 You're done!\n",
    "\n",
    "This notebook provided a step-by-step guide to fine-tuning the `HuggingFaceTB/SmolLM2-135M` model using the `SFTTrainer`. By following these steps, you can adapt the model to perform specific tasks more effectively. If you want to carry on working on this course, here are steps you could try out:\n",
    "\n",
    "- Try this notebook on a harder difficulty\n",
    "- Review a colleagues PR\n",
    "- Improve the course material via an Issue or PR."
   ]
  }
 ],
 "metadata": {
  "kernelspec": {
   "display_name": "py310",
   "language": "python",
   "name": "python3"
  },
  "language_info": {
   "codemirror_mode": {
    "name": "ipython",
    "version": 3
   },
   "file_extension": ".py",
   "mimetype": "text/x-python",
   "name": "python",
   "nbconvert_exporter": "python",
   "pygments_lexer": "ipython3",
   "version": "3.10.15"
  }
 },
 "nbformat": 4,
 "nbformat_minor": 2
>>>>>>> december-2024
}
