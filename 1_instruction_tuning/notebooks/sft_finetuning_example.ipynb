{
    "cells": [
        {
            "cell_type": "markdown",
            "metadata": {},
            "source": [
                "# Supervised Fine-Tuning with SFTTrainer\n",
                "\n",
                "This notebook demonstrates how to fine-tune the `HuggingFaceTB/SmolLM2-135M` model using the `SFTTrainer` from the `trl` library. We will follow best practices for preparing the dataset, configuring the trainer, and executing the training process."
            ]
        },
        {
            "cell_type": "code",
            "execution_count": null,
            "metadata": {},
            "outputs": [],
            "source": [
                "# Import necessary libraries\n",
                "import torch\n",
                "from transformers import AutoModelForCausalLM, AutoTokenizer\n",
                "from datasets import load_dataset\n",
                "from trl import SFTConfig, SFTTrainer, setup_chat_format\n",
                "\n",
                "# Load the model and tokenizer\n",
                "model_name = \"HuggingFaceTB/SmolLM2-135M\"\n",
                "model = AutoModelForCausalLM.from_pretrained(model_name)\n",
                "tokenizer = AutoTokenizer.from_pretrained(model_name)\n",
                "\n",
                "# Set up the chat format\n",
                "model, tokenizer = setup_chat_format(model, tokenizer)\n"
            ]
        },
        {
            "cell_type": "markdown",
            "metadata": {},
            "source": [
                "## Dataset Preparation\n",
                "\n",
                "We will load a sample dataset and format it for training. The dataset should be structured with input-output pairs, where each input is a prompt and the output is the expected response from the model."
            ]
        },
        {
            "cell_type": "code",
            "execution_count": null,
            "metadata": {},
            "outputs": [],
            "source": [
                "# Load a sample dataset\n",
                "# Replace 'your_dataset' with the actual dataset you want to use\n",
                "dataset = load_dataset(\"your_dataset\", split=\"train\")\n",
                "\n",
                "# Define a simple formatting function for the dataset\n",
                "def format_to_messages(example):\n",
                "    return {\n",
                "        \"messages\": [\n",
                "            {\"role\": \"user\", \"content\": example[\"input\"]},\n",
                "            {\"role\": \"assistant\", \"content\": example[\"output\"]},\n",
                "        ]\n",
                "    }\n",
                "\n",
                "# Apply the formatting function to the dataset\n",
                "formatted_dataset = dataset.map(format_to_messages, remove_columns=[\"input\", \"output\"])\n"
            ]
        },
        {
            "cell_type": "markdown",
            "metadata": {},
            "source": [
                "## Configuring the SFTTrainer\n",
                "\n",
                "The `SFTTrainer` is configured with various parameters that control the training process. These include the number of training steps, batch size, learning rate, and evaluation strategy. Adjust these parameters based on your specific requirements and computational resources."
            ]
        },
        {
            "cell_type": "code",
            "execution_count": null,
            "metadata": {},
            "outputs": [],
            "source": [
                "# Configure the SFTTrainer\n",
                "sft_config = SFTConfig(\n",
                "    output_dir=\"./sft_output\",\n",
                "    max_steps=1000,  # Adjust based on dataset size and desired training duration\n",
                "    per_device_train_batch_size=4,  # Set according to your GPU memory capacity\n",
                "    learning_rate=5e-5,  # Common starting point for fine-tuning\n",
                "    logging_steps=10,  # Frequency of logging training metrics\n",
                "    save_steps=100,  # Frequency of saving model checkpoints\n",
                "    evaluation_strategy=\"steps\",  # Evaluate the model at regular intervals\n",
                "    eval_steps=50,  # Frequency of evaluation\n",
                ")\n",
                "\n",
                "# Initialize the SFTTrainer\n",
                "trainer = SFTTrainer(\n",
                "    model=model, args=sft_config, train_dataset=formatted_dataset, tokenizer=tokenizer\n",
                ")\n"
            ]
        },
        {
            "cell_type": "markdown",
            "metadata": {},
            "source": [
                "## Training the Model\n",
                "\n",
                "With the trainer configured, we can now proceed to train the model. The training process will involve iterating over the dataset, computing the loss, and updating the model's parameters to minimize this loss."
            ]
        },
        {
            "cell_type": "code",
            "execution_count": null,
            "metadata": {},
            "outputs": [],
            "source": [
                "# Train the model\n",
                "trainer.train()\n",
                "\n",
                "# Save the model\n",
                "trainer.save_model(\"./sft_output\")"
            ]
        },
        {
            "cell_type": "markdown",
            "metadata": {},
            "source": [
                "## Conclusion\n",
                "\n",
                "This notebook provided a step-by-step guide to fine-tuning the `HuggingFaceTB/SmolLM2-135M` model using the `SFTTrainer`. By following these steps, you can adapt the model to perform specific tasks more effectively."
            ]
        }
    ],
    "metadata": {
        "language_info": {
            "name": "python"
        }
    },
    "nbformat": 4,
    "nbformat_minor": 2
}